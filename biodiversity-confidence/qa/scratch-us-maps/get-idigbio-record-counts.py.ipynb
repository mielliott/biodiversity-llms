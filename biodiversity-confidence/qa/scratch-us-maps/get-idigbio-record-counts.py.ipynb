{
 "cells": [
  {
   "cell_type": "code",
   "execution_count": 8,
   "metadata": {},
   "outputs": [],
   "source": [
    "import json\n",
    "import requests as rq\n",
    "import os\n",
    "import time\n",
    "import pandas as pd\n",
    "import numpy as np\n",
    "import requests as rq\n",
    "import regex as re"
   ]
  },
  {
   "cell_type": "code",
   "execution_count": 22,
   "metadata": {},
   "outputs": [],
   "source": [
    "RESULTS = \"../results\""
   ]
  },
  {
   "cell_type": "code",
   "execution_count": 20,
   "metadata": {},
   "outputs": [
    {
     "data": {
      "text/plain": [
       "stateprovince           Alabama\n",
       "county           Autauga County\n",
       "lat                     32.5322\n",
       "lon                    -86.6464\n",
       "country           United States\n",
       "Name: 0, dtype: object"
      ]
     },
     "execution_count": 20,
     "metadata": {},
     "output_type": "execute_result"
    }
   ],
   "source": [
    "raw_us = pd.read_csv(\"../resources/us-maps/us-state-counties.tsv\", sep=\"\\t\")\n",
    "raw_us = raw_us.rename(columns={\"state\": \"stateprovince\"})\n",
    "raw_us[\"country\"] = \"United States\"\n",
    "raw_us.iloc[0]"
   ]
  },
  {
   "cell_type": "code",
   "execution_count": 14,
   "metadata": {},
   "outputs": [],
   "source": [
    "def trim_county_name(county):\n",
    "    parts = county.split()\n",
    "    if len(parts) > 1 and re.sub(r'[^\\w]', '', parts[-1]).lower() in (\"co\", \"county\", \"mun\", \"par\", \"prov\"):\n",
    "        return \" \".join(parts[:-1])\n",
    "    else:\n",
    "        return county"
   ]
  },
  {
   "cell_type": "code",
   "execution_count": 15,
   "metadata": {},
   "outputs": [],
   "source": [
    "def make_record_count_query(record):\n",
    "    search_values = record.astype(str).to_dict()\n",
    "    if \"county\" in search_values:\n",
    "        search_values[\"county\"] = {\n",
    "            \"type\": \"prefix\",\n",
    "            \"value\": trim_county_name(search_values[\"county\"])\n",
    "        }\n",
    "    return {\n",
    "        \"rq\": search_values,\n",
    "        \"limit\": 1,\n",
    "        \"offset\": 0\n",
    "    }"
   ]
  },
  {
   "cell_type": "code",
   "execution_count": 16,
   "metadata": {},
   "outputs": [],
   "source": [
    "def get_record_count(record):\n",
    "    query = make_record_count_query(record)\n",
    "    return rq.post(\"http://search.idigbio.org/v2/search/records/\", json=query).json()[\"itemCount\"]"
   ]
  },
  {
   "cell_type": "code",
   "execution_count": 33,
   "metadata": {},
   "outputs": [],
   "source": [
    "def get_record_counts(in_df, group_by, out_file_path):\n",
    "    if os.path.exists(out_file_path):\n",
    "        df = pd.read_csv(filepath_or_buffer=out_file_path, sep=\"\\t\")\n",
    "    else:\n",
    "        df = in_df[group_by].drop_duplicates()\n",
    "        if \"county\" in df.columns:\n",
    "            df[\"county\"] = df[\"county\"].map(trim_county_name)\n",
    "        df.drop_duplicates()\n",
    "        df[\"record count\"] = df.apply(axis=1, func=get_record_count)\n",
    "        df.to_csv(out_file_path, sep=\"\\t\", index=False)\n",
    "    return df"
   ]
  },
  {
   "cell_type": "code",
   "execution_count": 34,
   "metadata": {},
   "outputs": [],
   "source": [
    "counties = get_record_counts(\\\n",
    "    raw_us,\n",
    "    [\"country\", \"stateprovince\", \"county\"],\n",
    "      f\"{RESULTS}/us-maps/input/record-counts-by-county.tsv\")"
   ]
  },
  {
   "cell_type": "code",
   "execution_count": 36,
   "metadata": {},
   "outputs": [],
   "source": [
    "stateprovinces = get_record_counts(\\\n",
    "    raw_us,\n",
    "    [\"country\", \"stateprovince\"],\n",
    "      f\"{RESULTS}/us-maps/input/record-counts-by-stateprovince.tsv\")"
   ]
  },
  {
   "cell_type": "code",
   "execution_count": 53,
   "metadata": {},
   "outputs": [
    {
     "data": {
      "text/html": [
       "<div>\n",
       "<style scoped>\n",
       "    .dataframe tbody tr th:only-of-type {\n",
       "        vertical-align: middle;\n",
       "    }\n",
       "\n",
       "    .dataframe tbody tr th {\n",
       "        vertical-align: top;\n",
       "    }\n",
       "\n",
       "    .dataframe thead th {\n",
       "        text-align: right;\n",
       "    }\n",
       "</style>\n",
       "<table border=\"1\" class=\"dataframe\">\n",
       "  <thead>\n",
       "    <tr style=\"text-align: right;\">\n",
       "      <th></th>\n",
       "      <th>kingdom</th>\n",
       "      <th>phylum</th>\n",
       "      <th>family</th>\n",
       "      <th>genus</th>\n",
       "      <th>specificepithet</th>\n",
       "    </tr>\n",
       "  </thead>\n",
       "  <tbody>\n",
       "    <tr>\n",
       "      <th>0</th>\n",
       "      <td>plantae</td>\n",
       "      <td>tracheophyta</td>\n",
       "      <td>sapindaceae</td>\n",
       "      <td>acer</td>\n",
       "      <td>saccharum</td>\n",
       "    </tr>\n",
       "    <tr>\n",
       "      <th>1</th>\n",
       "      <td>plantae</td>\n",
       "      <td>tracheophyta</td>\n",
       "      <td>fabaceae</td>\n",
       "      <td>amorpha</td>\n",
       "      <td>canescens</td>\n",
       "    </tr>\n",
       "    <tr>\n",
       "      <th>2</th>\n",
       "      <td>animalia</td>\n",
       "      <td>chordata</td>\n",
       "      <td>dasypodidae</td>\n",
       "      <td>dasypus</td>\n",
       "      <td>novemcinctus</td>\n",
       "    </tr>\n",
       "    <tr>\n",
       "      <th>3</th>\n",
       "      <td>animalia</td>\n",
       "      <td>chordata</td>\n",
       "      <td>picidae</td>\n",
       "      <td>leuconotopicus</td>\n",
       "      <td>albolarvatus</td>\n",
       "    </tr>\n",
       "  </tbody>\n",
       "</table>\n",
       "</div>"
      ],
      "text/plain": [
       "    kingdom        phylum       family           genus specificepithet\n",
       "0   plantae  tracheophyta  sapindaceae            acer       saccharum\n",
       "1   plantae  tracheophyta     fabaceae         amorpha       canescens\n",
       "2  animalia      chordata  dasypodidae         dasypus    novemcinctus\n",
       "3  animalia      chordata      picidae  leuconotopicus    albolarvatus"
      ]
     },
     "execution_count": 53,
     "metadata": {},
     "output_type": "execute_result"
    }
   ],
   "source": [
    "df = pd.DataFrame(index=[0])\n",
    "df[\"kingdom\"] = \"plantae\"\n",
    "df[\"phylum\"] = \"tracheophyta\"\n",
    "df[\"family\"] = \"sapindaceae\"\n",
    "df[\"genus\"] = \"acer\"\n",
    "df[\"specificepithet\"] = \"saccharum\"\n",
    "sugarmaple = df\n",
    "\n",
    "df = pd.DataFrame(index=[1])\n",
    "df[\"kingdom\"] = \"plantae\"\n",
    "df[\"phylum\"] = \"tracheophyta\"\n",
    "df[\"family\"] = \"fabaceae\"\n",
    "df[\"genus\"] = \"amorpha\"\n",
    "df[\"specificepithet\"] = \"canescens\"\n",
    "leadplant = df\n",
    "\n",
    "df = pd.DataFrame(index=[2])\n",
    "df[\"kingdom\"] = \"animalia\"\n",
    "df[\"phylum\"] = \"chordata\"\n",
    "df[\"family\"] = \"dasypodidae\"\n",
    "df[\"genus\"] = \"dasypus\"\n",
    "df[\"specificepithet\"] = \"novemcinctus\"\n",
    "armadillo = df\n",
    "\n",
    "df = pd.DataFrame(index=[3])\n",
    "df[\"kingdom\"] = \"animalia\"\n",
    "df[\"phylum\"] = \"chordata\"\n",
    "df[\"family\"] = \"picidae\"\n",
    "df[\"genus\"] = \"leuconotopicus\"\n",
    "df[\"specificepithet\"] = \"albolarvatus\"\n",
    "woodpecker = df\n",
    "\n",
    "df = pd.concat([sugarmaple, leadplant, armadillo, woodpecker], axis=0)\n",
    "\n",
    "species = get_record_counts(df,\n",
    "    [\"kingdom\", \"phylum\", \"family\", \"genus\", \"specificepithet\"],\n",
    "      f\"{RESULTS}/us-maps/input/record-counts-by-species.tsv\")\n",
    "\n",
    "genera = get_record_counts(df,\n",
    "    [\"kingdom\", \"phylum\", \"family\", \"genus\"],\n",
    "      f\"{RESULTS}/us-maps/input/record-counts-by-genus.tsv\")\n",
    "\n",
    "families = get_record_counts(df,\n",
    "    [\"kingdom\", \"phylum\", \"family\"],\n",
    "      f\"{RESULTS}/us-maps/input/record-counts-by-family.tsv\")\n",
    "\n",
    "phyla = get_record_counts(df,\n",
    "    [\"kingdom\", \"phylum\"],\n",
    "      f\"{RESULTS}/us-maps/input/record-counts-by-phylum.tsv\")\n",
    "\n",
    "df"
   ]
  },
  {
   "cell_type": "code",
   "execution_count": null,
   "metadata": {},
   "outputs": [],
   "source": []
  }
 ],
 "metadata": {
  "kernelspec": {
   "display_name": "llm",
   "language": "python",
   "name": "python3"
  },
  "language_info": {
   "codemirror_mode": {
    "name": "ipython",
    "version": 3
   },
   "file_extension": ".py",
   "mimetype": "text/x-python",
   "name": "python",
   "nbconvert_exporter": "python",
   "pygments_lexer": "ipython3",
   "version": "3.12.1"
  }
 },
 "nbformat": 4,
 "nbformat_minor": 2
}
