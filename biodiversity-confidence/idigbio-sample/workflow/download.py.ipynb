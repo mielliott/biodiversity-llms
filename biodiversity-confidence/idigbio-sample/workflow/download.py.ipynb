{
 "cells": [
  {
   "cell_type": "code",
   "execution_count": null,
   "metadata": {},
   "outputs": [],
   "source": [
    "if \"snakemake\" in globals():\n",
    "    print(dict(snakemake.params))\n",
    "    records_path = snakemake.output[0]\n",
    "    kingdom = snakemake.params.kingdom\n",
    "    phyla = snakemake.params.phyla\n",
    "    records_per_family = snakemake.params.records_per_family\n",
    "    families_per_kingdom = snakemake.params.families_per_kingdom\n",
    "else:\n",
    "    kingdom = \"animalia\"\n",
    "    phyla = {\"tardigrada\", \"xenacoelomorpha\"}\n",
    "    records_per_family = 120\n",
    "    families_per_kingdom = 7"
   ]
  },
  {
   "cell_type": "code",
   "execution_count": null,
   "metadata": {},
   "outputs": [
    {
     "name": "stdout",
     "output_type": "stream",
     "text": [
      "Records per kingdom: 840\n",
      "Families per kingdom: 7\n",
      "Families per phylum: 3.5\n"
     ]
    }
   ],
   "source": [
    "records_per_kingdom = records_per_family * families_per_kingdom\n",
    "print(\"Records per kingdom:\", records_per_kingdom)\n",
    "print(\"Families per kingdom:\", families_per_kingdom)\n",
    "\n",
    "phyla_in_kingdom = len(phyla)\n",
    "families_per_phylum = (records_per_kingdom / phyla_in_kingdom) / records_per_family\n",
    "print(\"Number of phyla:\", phyla_in_kingdom)\n",
    "print(\"Families per phylum:\", families_per_phylum)"
   ]
  },
  {
   "cell_type": "code",
   "execution_count": 12,
   "metadata": {},
   "outputs": [],
   "source": [
    "import json\n",
    "import requests\n",
    "import math\n",
    "import numpy as np\n",
    "\n",
    "api = \"https://beta-search.idigbio.org/v2\"\n",
    "\n",
    "def _make_summary_query(rq, top_fields, count):\n",
    "    global api\n",
    "    rq = json.dumps(rq)\n",
    "    top_fields = json.dumps(top_fields)\n",
    "    count = json.dumps(count)\n",
    "    return f\"{api}/summary/top/records/?rq={rq}&top_fields={top_fields}&count={count}\".replace(\" \", \"\")\n",
    "\n",
    "def get_idigbio_summary(rq, top_fields, count, verbose=False):\n",
    "    url = _make_summary_query(rq, top_fields, count)\n",
    "    if verbose: print(f\"Sending GET to {url}\")\n",
    "    return requests.get(url).json()[top_fields[0]]\n",
    "\n",
    "def _make_records_query(rq, limit, api):\n",
    "    rq = json.dumps(rq | {\n",
    "        # Uh oh! Sorting doesn't work on beta\n",
    "        # \"uuid\": {\n",
    "        #     \"type\": \"range\",\n",
    "        #     \"gt\": \"00000000-0000-0000-0000-000000000000\",\n",
    "        #     \"lte\": \"ffffffff-ffff-ffff-ffff-ffffffffffff\"\n",
    "        # }\n",
    "    })\n",
    "    sort = json.dumps([{ \"uuid\": \"asc\" }])\n",
    "    limit = json.dumps(limit)\n",
    "    return f\"{api}/search/records/?rq={rq}&limit={limit}\".replace(\" \", \"\")\n",
    "\n",
    "# limit=5000 is the max allowed by the API\n",
    "def get_idigbio_records(rq, limit=5000, verbose=False, api=api):\n",
    "    url = _make_records_query(rq, limit, api)\n",
    "    if verbose: print(f\"Sending GET to {url}\")\n",
    "    return requests.get(url).json()[\"items\"]"
   ]
  },
  {
   "cell_type": "markdown",
   "metadata": {},
   "source": [
    "## Select families to sample from"
   ]
  },
  {
   "cell_type": "code",
   "execution_count": 13,
   "metadata": {},
   "outputs": [],
   "source": [
    "def redistribute_group_counts(group_sizes, desired_total_size):\n",
    "    \"\"\"\n",
    "    Given a dict of groups with specified sizes, reduce group sizes to achieve the desired total size. Returns a new dict.\n",
    "    \"\"\"\n",
    "    group_sizes = dict(sorted(group_sizes.items(), key=lambda kv: (kv[1], kv[0])))\n",
    "    num_groups = len(group_sizes)\n",
    "    mass_total = desired_total_size\n",
    "\n",
    "    running_total = 0\n",
    "    for i, (group, mass) in enumerate(group_sizes.items()):\n",
    "        groups_remaining = num_groups - i\n",
    "        mass_remaining = mass_total - running_total\n",
    "        mass_per_group_remaining = math.floor(mass_remaining / groups_remaining)\n",
    "\n",
    "        mass = min(math.floor(mass), mass_per_group_remaining)\n",
    "        group_sizes[group] = mass\n",
    "        # print(mass, mass_remaining, mass_per_group_remaining, sep=\"\\t\")\n",
    "\n",
    "        running_total += mass\n",
    "    \n",
    "    return group_sizes"
   ]
  },
  {
   "cell_type": "code",
   "execution_count": 14,
   "metadata": {},
   "outputs": [],
   "source": [
    "summary = get_idigbio_summary(\n",
    "    rq={\"kingdom\": kingdom, \"phylum\": list(phyla), \"family\": {\"type\": \"exists\"}},\n",
    "    top_fields=[\"phylum\", \"family\"],\n",
    "    count=1000,\n",
    "    verbose=False\n",
    ")"
   ]
  },
  {
   "cell_type": "code",
   "execution_count": 15,
   "metadata": {},
   "outputs": [],
   "source": [
    "# For families that appear in more than one phylum, assign them to the phylum for which they have the most records\n",
    "family_phylum_assignments = dict()\n",
    "family_record_counts = dict()\n",
    "\n",
    "for phylum, data in summary.items():\n",
    "    family_counts = dict(map(lambda x: (x[0], x[1][\"itemCount\"]), data[\"family\"].items()))\n",
    "\n",
    "    for family, count in family_counts.items():\n",
    "        current_count = family_record_counts.get(family, 0)\n",
    "        if count > current_count:\n",
    "            family_phylum_assignments[family] = phylum\n",
    "            family_record_counts[family] = count"
   ]
  },
  {
   "cell_type": "code",
   "execution_count": 16,
   "metadata": {},
   "outputs": [
    {
     "data": {
      "text/plain": [
       "{'xenacoelomorpha': 3, 'tardigrada': 4}"
      ]
     },
     "execution_count": 16,
     "metadata": {},
     "output_type": "execute_result"
    }
   ],
   "source": [
    "bad_family_names = {\n",
    "    \"\"\n",
    "}\n",
    "\n",
    "def get_family_candidates(phylum, phylum_family_counts):\n",
    "    return {f: v[\"itemCount\"] for f, v in phylum_family_counts.items() if f.lower() not in bad_family_names and v[\"itemCount\"] >= records_per_family and family_phylum_assignments[f] == phylum}\n",
    "\n",
    "# 1. For each phylum\n",
    "# - Get family candidates\n",
    "# - Count family candidates\n",
    "phylum_family_candidates = {phylum: get_family_candidates(phylum, data[\"family\"]) for phylum, data in summary.items()}\n",
    "phylum_family_counts = {phylum: len(family_counts) for phylum, family_counts in phylum_family_candidates.items()}\n",
    "\n",
    "# 2. Sort phyla by family count, ascending\n",
    "phylum_family_counts = dict(sorted(phylum_family_counts.items(), key=lambda kv: (kv[1], kv[0])))\n",
    "\n",
    "# 3. Allocate family counts to phyla: spread as evenly as possible, rounding family counts to favor the biggest families\n",
    "balanced_phylum_family_counts = redistribute_group_counts(phylum_family_counts, families_per_kingdom)\n",
    "balanced_phylum_family_counts"
   ]
  },
  {
   "cell_type": "code",
   "execution_count": 17,
   "metadata": {},
   "outputs": [],
   "source": [
    "def select_families_in_phylum(phylum, num_families_to_choose):\n",
    "    family_record_counts = phylum_family_candidates[phylum]\n",
    "    counts = list(family_record_counts.values())\n",
    "\n",
    "    # Bin families by record count\n",
    "    num_bins = num_families_to_choose\n",
    "    bin_min = min(counts) - 1\n",
    "    bin_max = max(counts) + 1\n",
    "    bin_edges = np.linspace(bin_min, bin_max, num_bins + 1)\n",
    "    bin_totals, _ = np.histogram(counts, bin_edges)\n",
    "    \n",
    "    balanced_bin_totals_map = redistribute_group_counts(dict(enumerate(bin_totals)), num_families_to_choose)\n",
    "    balanced_bin_totals = [balanced_bin_totals_map[i] for i in range(num_bins)]\n",
    "\n",
    "    # Select families for each bin\n",
    "    family_bin_assignments = np.digitize(counts, bin_edges) - 1\n",
    "    \n",
    "    selected_families = set()\n",
    "    for bin_index in range(num_bins):\n",
    "        selected_families_in_bin = np.array(list(family_record_counts))\\\n",
    "            [family_bin_assignments == bin_index]\\\n",
    "            [:balanced_bin_totals[bin_index]]\n",
    "        selected_families |= set(map(str, selected_families_in_bin))\n",
    "    \n",
    "    return selected_families"
   ]
  },
  {
   "cell_type": "code",
   "execution_count": 20,
   "metadata": {},
   "outputs": [
    {
     "data": {
      "text/plain": [
       "{'xenacoelomorpha': {'mecynostomidae', 'proporidae', 'xenoturbellidae'},\n",
       " 'tardigrada': {'echiniscidae', 'hypsibiidae', 'macrobiotidae', 'milnesiidae'}}"
      ]
     },
     "execution_count": 20,
     "metadata": {},
     "output_type": "execute_result"
    }
   ],
   "source": [
    "phylum_families = { p: select_families_in_phylum(p, balanced_phylum_family_counts[p]) for p in phyla }\n",
    "\n",
    "# Make sure we got the right counts\n",
    "selected_family_counts_by_phylum = dict(map(lambda k: (k[0], len(k[1])), phylum_families.items()))\n",
    "assert selected_family_counts_by_phylum == balanced_phylum_family_counts\n",
    "\n",
    "all_selected_families = set().union(*phylum_families.values())\n",
    "total_num_selected_families = len(all_selected_families)\n",
    "assert total_num_selected_families == families_per_kingdom\n",
    "\n",
    "phylum_families"
   ]
  },
  {
   "cell_type": "markdown",
   "metadata": {},
   "source": [
    "## Download records for each family"
   ]
  },
  {
   "cell_type": "code",
   "execution_count": null,
   "metadata": {},
   "outputs": [
    {
     "data": {
      "application/vnd.jupyter.widget-view+json": {
       "model_id": "b9eabce99fde498e9d2339baf59c2db0",
       "version_major": 2,
       "version_minor": 0
      },
      "text/plain": [
       "  0%|          | 0/2 [00:00<?, ?it/s]"
      ]
     },
     "metadata": {},
     "output_type": "display_data"
    },
    {
     "data": {
      "application/vnd.jupyter.widget-view+json": {
       "model_id": "cb5590259ac44a26b80397e0c95fc69c",
       "version_major": 2,
       "version_minor": 0
      },
      "text/plain": [
       "  0%|          | 0/3 [00:00<?, ?it/s]"
      ]
     },
     "metadata": {},
     "output_type": "display_data"
    },
    {
     "data": {
      "application/vnd.jupyter.widget-view+json": {
       "model_id": "802fceb11de24a67ad592ecd65c5a574",
       "version_major": 2,
       "version_minor": 0
      },
      "text/plain": [
       "  0%|          | 0/4 [00:00<?, ?it/s]"
      ]
     },
     "metadata": {},
     "output_type": "display_data"
    }
   ],
   "source": [
    "from tqdm.notebook import tqdm\n",
    "import random\n",
    "\n",
    "with open(records_path, \"w\") as f:\n",
    "    for phylum, families in tqdm(phylum_families.items()):\n",
    "        for family in tqdm(families):\n",
    "            # TODO: random sampling should be done by the API, but sorting by UUID (the best way I know of to shuffle) gives an error on the beta API\n",
    "            records = random.sample(get_idigbio_records(\n",
    "                rq={\"kingdom\": kingdom, \"phylum\": phylum, \"family\": family}\n",
    "            ), records_per_family)\n",
    "\n",
    "            assert len(records) == records_per_family\n",
    "\n",
    "            for record in records:\n",
    "                json.dump(record, f)\n",
    "                f.write(\"\\n\")"
   ]
  }
 ],
 "metadata": {
  "kernelspec": {
   "display_name": "dataset",
   "language": "python",
   "name": "python3"
  },
  "language_info": {
   "codemirror_mode": {
    "name": "ipython",
    "version": 3
   },
   "file_extension": ".py",
   "mimetype": "text/x-python",
   "name": "python",
   "nbconvert_exporter": "python",
   "pygments_lexer": "ipython3",
   "version": "3.12.7"
  },
  "orig_nbformat": 4
 },
 "nbformat": 4,
 "nbformat_minor": 2
}
