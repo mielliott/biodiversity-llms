{
 "cells": [
  {
   "cell_type": "code",
   "execution_count": 29,
   "metadata": {},
   "outputs": [],
   "source": [
    "!rm output.tsv"
   ]
  },
  {
   "cell_type": "code",
   "execution_count": 30,
   "metadata": {},
   "outputs": [
    {
     "name": "stdout",
     "output_type": "stream",
     "text": [
      "Processing batches: 100%|█████████████████████████| 1/1 [00:01<00:00,  1.22s/it]\n"
     ]
    }
   ],
   "source": [
    "temperatures_range = (0.1, 0.1)\n",
    "start = temperatures_range[0]\n",
    "end = temperatures_range[1]\n",
    "step = 0.1\n",
    "num_responses = 1\n",
    "\n",
    "data = {}\n",
    "temp = temperatures_range[0]\n",
    "while temp <= end:\n",
    "    output = f\"{temp}\\t\"\n",
    "    \n",
    "    !echo -e \"species\\tlocation\\nblack bears\\tbrown bears\" | python3 main.py -temp {temp} -t 50 -k 10 -r {num_responses} \"Tell a story about {{species}} and {{location}} being friends.\" >> output.tsv\n",
    "    \n",
    "    temp += step"
   ]
  },
  {
   "cell_type": "code",
   "execution_count": 3,
   "metadata": {},
   "outputs": [],
   "source": [
    "import pandas as pd\n",
    "import numpy as np\n",
    "df = pd.read_csv('output.tsv', sep='\\t')\n",
    "df1 = df[df.iloc[:, 0] != df.columns[0]]"
   ]
  },
  {
   "cell_type": "markdown",
   "metadata": {},
   "source": [
    "## Calculate probabilities distributtion from the responses"
   ]
  },
  {
   "cell_type": "code",
   "execution_count": 4,
   "metadata": {},
   "outputs": [
    {
     "data": {
      "text/plain": [
       "Index(['species', 'location', 'query', 'response', 'question number',\n",
       "       'top tokens', 'top tokens logprobs', 'input token count',\n",
       "       'output token count'],\n",
       "      dtype='object')"
      ]
     },
     "execution_count": 4,
     "metadata": {},
     "output_type": "execute_result"
    }
   ],
   "source": [
    "df.columns"
   ]
  },
  {
   "cell_type": "code",
   "execution_count": 5,
   "metadata": {},
   "outputs": [
    {
     "data": {
      "text/html": [
       "<div>\n",
       "<style scoped>\n",
       "    .dataframe tbody tr th:only-of-type {\n",
       "        vertical-align: middle;\n",
       "    }\n",
       "\n",
       "    .dataframe tbody tr th {\n",
       "        vertical-align: top;\n",
       "    }\n",
       "\n",
       "    .dataframe thead th {\n",
       "        text-align: right;\n",
       "    }\n",
       "</style>\n",
       "<table border=\"1\" class=\"dataframe\">\n",
       "  <thead>\n",
       "    <tr style=\"text-align: right;\">\n",
       "      <th></th>\n",
       "      <th>species</th>\n",
       "      <th>location</th>\n",
       "      <th>query</th>\n",
       "      <th>response</th>\n",
       "      <th>question number</th>\n",
       "      <th>top tokens</th>\n",
       "      <th>top tokens logprobs</th>\n",
       "      <th>input token count</th>\n",
       "      <th>output token count</th>\n",
       "    </tr>\n",
       "  </thead>\n",
       "  <tbody>\n",
       "    <tr>\n",
       "      <th>0</th>\n",
       "      <td>black bears</td>\n",
       "      <td>brown bears</td>\n",
       "      <td>Only respond yes or no to my questions, even i...</td>\n",
       "      <td>Yes</td>\n",
       "      <td>0</td>\n",
       "      <td>['Yes', 'No']</td>\n",
       "      <td>[-0.12703992, -2.2197618]</td>\n",
       "      <td>33</td>\n",
       "      <td>100</td>\n",
       "    </tr>\n",
       "    <tr>\n",
       "      <th>1</th>\n",
       "      <td>black bears</td>\n",
       "      <td>brown bears</td>\n",
       "      <td>Only respond yes or no to my questions, even i...</td>\n",
       "      <td>Yes</td>\n",
       "      <td>0</td>\n",
       "      <td>['Yes', 'No']</td>\n",
       "      <td>[-0.12703992, -2.2197618]</td>\n",
       "      <td>33</td>\n",
       "      <td>100</td>\n",
       "    </tr>\n",
       "    <tr>\n",
       "      <th>2</th>\n",
       "      <td>black bears</td>\n",
       "      <td>brown bears</td>\n",
       "      <td>Only respond yes or no to my questions, even i...</td>\n",
       "      <td>Yes</td>\n",
       "      <td>0</td>\n",
       "      <td>['Yes', 'No']</td>\n",
       "      <td>[-0.12703992, -2.2197618]</td>\n",
       "      <td>33</td>\n",
       "      <td>100</td>\n",
       "    </tr>\n",
       "    <tr>\n",
       "      <th>3</th>\n",
       "      <td>black bears</td>\n",
       "      <td>brown bears</td>\n",
       "      <td>Only respond yes or no to my questions, even i...</td>\n",
       "      <td>Yes</td>\n",
       "      <td>0</td>\n",
       "      <td>['Yes', 'No']</td>\n",
       "      <td>[-0.12703992, -2.2197618]</td>\n",
       "      <td>33</td>\n",
       "      <td>100</td>\n",
       "    </tr>\n",
       "    <tr>\n",
       "      <th>4</th>\n",
       "      <td>black bears</td>\n",
       "      <td>brown bears</td>\n",
       "      <td>Only respond yes or no to my questions, even i...</td>\n",
       "      <td>Yes</td>\n",
       "      <td>0</td>\n",
       "      <td>['Yes', 'No']</td>\n",
       "      <td>[-0.12703992, -2.2197618]</td>\n",
       "      <td>33</td>\n",
       "      <td>100</td>\n",
       "    </tr>\n",
       "  </tbody>\n",
       "</table>\n",
       "</div>"
      ],
      "text/plain": [
       "       species     location  \\\n",
       "0  black bears  brown bears   \n",
       "1  black bears  brown bears   \n",
       "2  black bears  brown bears   \n",
       "3  black bears  brown bears   \n",
       "4  black bears  brown bears   \n",
       "\n",
       "                                               query response question number  \\\n",
       "0  Only respond yes or no to my questions, even i...      Yes               0   \n",
       "1  Only respond yes or no to my questions, even i...      Yes               0   \n",
       "2  Only respond yes or no to my questions, even i...      Yes               0   \n",
       "3  Only respond yes or no to my questions, even i...      Yes               0   \n",
       "4  Only respond yes or no to my questions, even i...      Yes               0   \n",
       "\n",
       "      top tokens        top tokens logprobs input token count  \\\n",
       "0  ['Yes', 'No']  [-0.12703992, -2.2197618]                33   \n",
       "1  ['Yes', 'No']  [-0.12703992, -2.2197618]                33   \n",
       "2  ['Yes', 'No']  [-0.12703992, -2.2197618]                33   \n",
       "3  ['Yes', 'No']  [-0.12703992, -2.2197618]                33   \n",
       "4  ['Yes', 'No']  [-0.12703992, -2.2197618]                33   \n",
       "\n",
       "  output token count  \n",
       "0                100  \n",
       "1                100  \n",
       "2                100  \n",
       "3                100  \n",
       "4                100  "
      ]
     },
     "execution_count": 5,
     "metadata": {},
     "output_type": "execute_result"
    }
   ],
   "source": [
    "df.head()"
   ]
  },
  {
   "cell_type": "code",
   "execution_count": 6,
   "metadata": {},
   "outputs": [
    {
     "data": {
      "text/html": [
       "<div>\n",
       "<style scoped>\n",
       "    .dataframe tbody tr th:only-of-type {\n",
       "        vertical-align: middle;\n",
       "    }\n",
       "\n",
       "    .dataframe tbody tr th {\n",
       "        vertical-align: top;\n",
       "    }\n",
       "\n",
       "    .dataframe thead th {\n",
       "        text-align: right;\n",
       "    }\n",
       "</style>\n",
       "<table border=\"1\" class=\"dataframe\">\n",
       "  <thead>\n",
       "    <tr style=\"text-align: right;\">\n",
       "      <th></th>\n",
       "      <th>species</th>\n",
       "      <th>location</th>\n",
       "      <th>query</th>\n",
       "      <th>response</th>\n",
       "      <th>question number</th>\n",
       "      <th>top tokens</th>\n",
       "      <th>top tokens logprobs</th>\n",
       "      <th>input token count</th>\n",
       "      <th>output token count</th>\n",
       "    </tr>\n",
       "  </thead>\n",
       "  <tbody>\n",
       "    <tr>\n",
       "      <th>0</th>\n",
       "      <td>black bears</td>\n",
       "      <td>brown bears</td>\n",
       "      <td>Only respond yes or no to my questions, even i...</td>\n",
       "      <td>Yes</td>\n",
       "      <td>0</td>\n",
       "      <td>['Yes', 'No']</td>\n",
       "      <td>[-0.12703992, -2.2197618]</td>\n",
       "      <td>33</td>\n",
       "      <td>100</td>\n",
       "    </tr>\n",
       "    <tr>\n",
       "      <th>1</th>\n",
       "      <td>black bears</td>\n",
       "      <td>brown bears</td>\n",
       "      <td>Only respond yes or no to my questions, even i...</td>\n",
       "      <td>Yes</td>\n",
       "      <td>0</td>\n",
       "      <td>['Yes', 'No']</td>\n",
       "      <td>[-0.12703992, -2.2197618]</td>\n",
       "      <td>33</td>\n",
       "      <td>100</td>\n",
       "    </tr>\n",
       "    <tr>\n",
       "      <th>2</th>\n",
       "      <td>black bears</td>\n",
       "      <td>brown bears</td>\n",
       "      <td>Only respond yes or no to my questions, even i...</td>\n",
       "      <td>Yes</td>\n",
       "      <td>0</td>\n",
       "      <td>['Yes', 'No']</td>\n",
       "      <td>[-0.12703992, -2.2197618]</td>\n",
       "      <td>33</td>\n",
       "      <td>100</td>\n",
       "    </tr>\n",
       "    <tr>\n",
       "      <th>3</th>\n",
       "      <td>black bears</td>\n",
       "      <td>brown bears</td>\n",
       "      <td>Only respond yes or no to my questions, even i...</td>\n",
       "      <td>Yes</td>\n",
       "      <td>0</td>\n",
       "      <td>['Yes', 'No']</td>\n",
       "      <td>[-0.12703992, -2.2197618]</td>\n",
       "      <td>33</td>\n",
       "      <td>100</td>\n",
       "    </tr>\n",
       "    <tr>\n",
       "      <th>4</th>\n",
       "      <td>black bears</td>\n",
       "      <td>brown bears</td>\n",
       "      <td>Only respond yes or no to my questions, even i...</td>\n",
       "      <td>Yes</td>\n",
       "      <td>0</td>\n",
       "      <td>['Yes', 'No']</td>\n",
       "      <td>[-0.12703992, -2.2197618]</td>\n",
       "      <td>33</td>\n",
       "      <td>100</td>\n",
       "    </tr>\n",
       "  </tbody>\n",
       "</table>\n",
       "</div>"
      ],
      "text/plain": [
       "       species     location  \\\n",
       "0  black bears  brown bears   \n",
       "1  black bears  brown bears   \n",
       "2  black bears  brown bears   \n",
       "3  black bears  brown bears   \n",
       "4  black bears  brown bears   \n",
       "\n",
       "                                               query response question number  \\\n",
       "0  Only respond yes or no to my questions, even i...      Yes               0   \n",
       "1  Only respond yes or no to my questions, even i...      Yes               0   \n",
       "2  Only respond yes or no to my questions, even i...      Yes               0   \n",
       "3  Only respond yes or no to my questions, even i...      Yes               0   \n",
       "4  Only respond yes or no to my questions, even i...      Yes               0   \n",
       "\n",
       "      top tokens        top tokens logprobs input token count  \\\n",
       "0  ['Yes', 'No']  [-0.12703992, -2.2197618]                33   \n",
       "1  ['Yes', 'No']  [-0.12703992, -2.2197618]                33   \n",
       "2  ['Yes', 'No']  [-0.12703992, -2.2197618]                33   \n",
       "3  ['Yes', 'No']  [-0.12703992, -2.2197618]                33   \n",
       "4  ['Yes', 'No']  [-0.12703992, -2.2197618]                33   \n",
       "\n",
       "  output token count  \n",
       "0                100  \n",
       "1                100  \n",
       "2                100  \n",
       "3                100  \n",
       "4                100  "
      ]
     },
     "execution_count": 6,
     "metadata": {},
     "output_type": "execute_result"
    }
   ],
   "source": [
    "df1.head()"
   ]
  },
  {
   "cell_type": "code",
   "execution_count": 7,
   "metadata": {},
   "outputs": [
    {
     "name": "stderr",
     "output_type": "stream",
     "text": [
      "/tmp/ipykernel_1358561/1681541808.py:17: SettingWithCopyWarning: \n",
      "A value is trying to be set on a copy of a slice from a DataFrame.\n",
      "Try using .loc[row_indexer,col_indexer] = value instead\n",
      "\n",
      "See the caveats in the documentation: https://pandas.pydata.org/pandas-docs/stable/user_guide/indexing.html#returning-a-view-versus-a-copy\n",
      "  df1['yes_log_probs'] = df1.apply(lambda row: get_log_prob(row, 'Yes'), axis=1)\n",
      "/tmp/ipykernel_1358561/1681541808.py:18: SettingWithCopyWarning: \n",
      "A value is trying to be set on a copy of a slice from a DataFrame.\n",
      "Try using .loc[row_indexer,col_indexer] = value instead\n",
      "\n",
      "See the caveats in the documentation: https://pandas.pydata.org/pandas-docs/stable/user_guide/indexing.html#returning-a-view-versus-a-copy\n",
      "  df1['no_log_probs'] = df1.apply(lambda row: get_log_prob(row, 'No'), axis=1)\n",
      "/tmp/ipykernel_1358561/1681541808.py:20: SettingWithCopyWarning: \n",
      "A value is trying to be set on a copy of a slice from a DataFrame.\n",
      "Try using .loc[row_indexer,col_indexer] = value instead\n",
      "\n",
      "See the caveats in the documentation: https://pandas.pydata.org/pandas-docs/stable/user_guide/indexing.html#returning-a-view-versus-a-copy\n",
      "  df1['temperature'] = np.repeat(np.arange(start, end, step), num_responses).tolist()\n"
     ]
    }
   ],
   "source": [
    "import ast\n",
    "def safe_eval(s):\n",
    "    try:\n",
    "        return ast.literal_eval(s)\n",
    "    except:\n",
    "        return []\n",
    "def get_log_prob(row, token):\n",
    "    tokens = safe_eval(row['top tokens'])\n",
    "    logprobs = safe_eval(row['top tokens logprobs'])\n",
    "    \n",
    "    if token in tokens:\n",
    "        index = tokens.index(token)\n",
    "        return logprobs[index] if index < len(logprobs) else None\n",
    "    else:\n",
    "        return None\n",
    "\n",
    "df1['yes_log_probs'] = df1.apply(lambda row: get_log_prob(row, 'Yes'), axis=1)\n",
    "df1['no_log_probs'] = df1.apply(lambda row: get_log_prob(row, 'No'), axis=1)\n",
    "\n",
    "df1['temperature'] = np.repeat(np.arange(start, end, step), num_responses).tolist()\n"
   ]
  },
  {
   "cell_type": "code",
   "execution_count": 8,
   "metadata": {},
   "outputs": [
    {
     "name": "stdout",
     "output_type": "stream",
     "text": [
      "['Yes', 'No']\n"
     ]
    },
    {
     "data": {
      "text/plain": [
       "str"
      ]
     },
     "execution_count": 8,
     "metadata": {},
     "output_type": "execute_result"
    }
   ],
   "source": [
    "print(df1.iloc[0]['top tokens']) \n",
    "type(df1.iloc[0]['top tokens'])"
   ]
  },
  {
   "cell_type": "code",
   "execution_count": 9,
   "metadata": {},
   "outputs": [
    {
     "data": {
      "text/html": [
       "<div>\n",
       "<style scoped>\n",
       "    .dataframe tbody tr th:only-of-type {\n",
       "        vertical-align: middle;\n",
       "    }\n",
       "\n",
       "    .dataframe tbody tr th {\n",
       "        vertical-align: top;\n",
       "    }\n",
       "\n",
       "    .dataframe thead th {\n",
       "        text-align: right;\n",
       "    }\n",
       "</style>\n",
       "<table border=\"1\" class=\"dataframe\">\n",
       "  <thead>\n",
       "    <tr style=\"text-align: right;\">\n",
       "      <th></th>\n",
       "      <th>species</th>\n",
       "      <th>location</th>\n",
       "      <th>query</th>\n",
       "      <th>response</th>\n",
       "      <th>question number</th>\n",
       "      <th>top tokens</th>\n",
       "      <th>top tokens logprobs</th>\n",
       "      <th>input token count</th>\n",
       "      <th>output token count</th>\n",
       "      <th>yes_log_probs</th>\n",
       "      <th>no_log_probs</th>\n",
       "      <th>temperature</th>\n",
       "    </tr>\n",
       "  </thead>\n",
       "  <tbody>\n",
       "    <tr>\n",
       "      <th>0</th>\n",
       "      <td>black bears</td>\n",
       "      <td>brown bears</td>\n",
       "      <td>Only respond yes or no to my questions, even i...</td>\n",
       "      <td>Yes</td>\n",
       "      <td>0</td>\n",
       "      <td>['Yes', 'No']</td>\n",
       "      <td>[-0.12703992, -2.2197618]</td>\n",
       "      <td>33</td>\n",
       "      <td>100</td>\n",
       "      <td>-0.12704</td>\n",
       "      <td>-2.219762</td>\n",
       "      <td>0.1</td>\n",
       "    </tr>\n",
       "    <tr>\n",
       "      <th>1</th>\n",
       "      <td>black bears</td>\n",
       "      <td>brown bears</td>\n",
       "      <td>Only respond yes or no to my questions, even i...</td>\n",
       "      <td>Yes</td>\n",
       "      <td>0</td>\n",
       "      <td>['Yes', 'No']</td>\n",
       "      <td>[-0.12703992, -2.2197618]</td>\n",
       "      <td>33</td>\n",
       "      <td>100</td>\n",
       "      <td>-0.12704</td>\n",
       "      <td>-2.219762</td>\n",
       "      <td>0.1</td>\n",
       "    </tr>\n",
       "    <tr>\n",
       "      <th>2</th>\n",
       "      <td>black bears</td>\n",
       "      <td>brown bears</td>\n",
       "      <td>Only respond yes or no to my questions, even i...</td>\n",
       "      <td>Yes</td>\n",
       "      <td>0</td>\n",
       "      <td>['Yes', 'No']</td>\n",
       "      <td>[-0.12703992, -2.2197618]</td>\n",
       "      <td>33</td>\n",
       "      <td>100</td>\n",
       "      <td>-0.12704</td>\n",
       "      <td>-2.219762</td>\n",
       "      <td>0.1</td>\n",
       "    </tr>\n",
       "    <tr>\n",
       "      <th>3</th>\n",
       "      <td>black bears</td>\n",
       "      <td>brown bears</td>\n",
       "      <td>Only respond yes or no to my questions, even i...</td>\n",
       "      <td>Yes</td>\n",
       "      <td>0</td>\n",
       "      <td>['Yes', 'No']</td>\n",
       "      <td>[-0.12703992, -2.2197618]</td>\n",
       "      <td>33</td>\n",
       "      <td>100</td>\n",
       "      <td>-0.12704</td>\n",
       "      <td>-2.219762</td>\n",
       "      <td>0.1</td>\n",
       "    </tr>\n",
       "    <tr>\n",
       "      <th>4</th>\n",
       "      <td>black bears</td>\n",
       "      <td>brown bears</td>\n",
       "      <td>Only respond yes or no to my questions, even i...</td>\n",
       "      <td>Yes</td>\n",
       "      <td>0</td>\n",
       "      <td>['Yes', 'No']</td>\n",
       "      <td>[-0.12703992, -2.2197618]</td>\n",
       "      <td>33</td>\n",
       "      <td>100</td>\n",
       "      <td>-0.12704</td>\n",
       "      <td>-2.219762</td>\n",
       "      <td>0.1</td>\n",
       "    </tr>\n",
       "  </tbody>\n",
       "</table>\n",
       "</div>"
      ],
      "text/plain": [
       "       species     location  \\\n",
       "0  black bears  brown bears   \n",
       "1  black bears  brown bears   \n",
       "2  black bears  brown bears   \n",
       "3  black bears  brown bears   \n",
       "4  black bears  brown bears   \n",
       "\n",
       "                                               query response question number  \\\n",
       "0  Only respond yes or no to my questions, even i...      Yes               0   \n",
       "1  Only respond yes or no to my questions, even i...      Yes               0   \n",
       "2  Only respond yes or no to my questions, even i...      Yes               0   \n",
       "3  Only respond yes or no to my questions, even i...      Yes               0   \n",
       "4  Only respond yes or no to my questions, even i...      Yes               0   \n",
       "\n",
       "      top tokens        top tokens logprobs input token count  \\\n",
       "0  ['Yes', 'No']  [-0.12703992, -2.2197618]                33   \n",
       "1  ['Yes', 'No']  [-0.12703992, -2.2197618]                33   \n",
       "2  ['Yes', 'No']  [-0.12703992, -2.2197618]                33   \n",
       "3  ['Yes', 'No']  [-0.12703992, -2.2197618]                33   \n",
       "4  ['Yes', 'No']  [-0.12703992, -2.2197618]                33   \n",
       "\n",
       "  output token count  yes_log_probs  no_log_probs  temperature  \n",
       "0                100       -0.12704     -2.219762          0.1  \n",
       "1                100       -0.12704     -2.219762          0.1  \n",
       "2                100       -0.12704     -2.219762          0.1  \n",
       "3                100       -0.12704     -2.219762          0.1  \n",
       "4                100       -0.12704     -2.219762          0.1  "
      ]
     },
     "execution_count": 9,
     "metadata": {},
     "output_type": "execute_result"
    }
   ],
   "source": [
    "df1.head()"
   ]
  },
  {
   "cell_type": "code",
   "execution_count": 10,
   "metadata": {},
   "outputs": [
    {
     "name": "stderr",
     "output_type": "stream",
     "text": [
      "/tmp/ipykernel_1358561/2854542454.py:2: SettingWithCopyWarning: \n",
      "A value is trying to be set on a copy of a slice from a DataFrame\n",
      "\n",
      "See the caveats in the documentation: https://pandas.pydata.org/pandas-docs/stable/user_guide/indexing.html#returning-a-view-versus-a-copy\n",
      "  df1.drop(['question number', 'query', 'top tokens', 'top tokens logprobs', 'input token count', 'output token count'], axis=1, inplace=True)\n"
     ]
    }
   ],
   "source": [
    "# drop unnecessary columns\n",
    "df1.drop(['question number', 'query', 'top tokens', 'top tokens logprobs', 'input token count', 'output token count'], axis=1, inplace=True)"
   ]
  },
  {
   "cell_type": "code",
   "execution_count": 11,
   "metadata": {},
   "outputs": [
    {
     "data": {
      "text/html": [
       "<div>\n",
       "<style scoped>\n",
       "    .dataframe tbody tr th:only-of-type {\n",
       "        vertical-align: middle;\n",
       "    }\n",
       "\n",
       "    .dataframe tbody tr th {\n",
       "        vertical-align: top;\n",
       "    }\n",
       "\n",
       "    .dataframe thead th {\n",
       "        text-align: right;\n",
       "    }\n",
       "</style>\n",
       "<table border=\"1\" class=\"dataframe\">\n",
       "  <thead>\n",
       "    <tr style=\"text-align: right;\">\n",
       "      <th></th>\n",
       "      <th>species</th>\n",
       "      <th>location</th>\n",
       "      <th>response</th>\n",
       "      <th>yes_log_probs</th>\n",
       "      <th>no_log_probs</th>\n",
       "      <th>temperature</th>\n",
       "    </tr>\n",
       "  </thead>\n",
       "  <tbody>\n",
       "    <tr>\n",
       "      <th>0</th>\n",
       "      <td>black bears</td>\n",
       "      <td>brown bears</td>\n",
       "      <td>Yes</td>\n",
       "      <td>-0.12704</td>\n",
       "      <td>-2.219762</td>\n",
       "      <td>0.1</td>\n",
       "    </tr>\n",
       "    <tr>\n",
       "      <th>1</th>\n",
       "      <td>black bears</td>\n",
       "      <td>brown bears</td>\n",
       "      <td>Yes</td>\n",
       "      <td>-0.12704</td>\n",
       "      <td>-2.219762</td>\n",
       "      <td>0.1</td>\n",
       "    </tr>\n",
       "    <tr>\n",
       "      <th>2</th>\n",
       "      <td>black bears</td>\n",
       "      <td>brown bears</td>\n",
       "      <td>Yes</td>\n",
       "      <td>-0.12704</td>\n",
       "      <td>-2.219762</td>\n",
       "      <td>0.1</td>\n",
       "    </tr>\n",
       "    <tr>\n",
       "      <th>3</th>\n",
       "      <td>black bears</td>\n",
       "      <td>brown bears</td>\n",
       "      <td>Yes</td>\n",
       "      <td>-0.12704</td>\n",
       "      <td>-2.219762</td>\n",
       "      <td>0.1</td>\n",
       "    </tr>\n",
       "    <tr>\n",
       "      <th>4</th>\n",
       "      <td>black bears</td>\n",
       "      <td>brown bears</td>\n",
       "      <td>Yes</td>\n",
       "      <td>-0.12704</td>\n",
       "      <td>-2.219762</td>\n",
       "      <td>0.1</td>\n",
       "    </tr>\n",
       "  </tbody>\n",
       "</table>\n",
       "</div>"
      ],
      "text/plain": [
       "       species     location response  yes_log_probs  no_log_probs  temperature\n",
       "0  black bears  brown bears      Yes       -0.12704     -2.219762          0.1\n",
       "1  black bears  brown bears      Yes       -0.12704     -2.219762          0.1\n",
       "2  black bears  brown bears      Yes       -0.12704     -2.219762          0.1\n",
       "3  black bears  brown bears      Yes       -0.12704     -2.219762          0.1\n",
       "4  black bears  brown bears      Yes       -0.12704     -2.219762          0.1"
      ]
     },
     "execution_count": 11,
     "metadata": {},
     "output_type": "execute_result"
    }
   ],
   "source": [
    "df1.head()"
   ]
  },
  {
   "cell_type": "code",
   "execution_count": 12,
   "metadata": {},
   "outputs": [],
   "source": [
    "grouped = df1.groupby(['temperature', 'response']).size().unstack(fill_value=0)"
   ]
  },
  {
   "cell_type": "code",
   "execution_count": 13,
   "metadata": {},
   "outputs": [
    {
     "name": "stdout",
     "output_type": "stream",
     "text": [
      "Probabilities of responses for each temperature:\n",
      "response  temperature    No   Yes\n",
      "0                 0.1  0.00  1.00\n",
      "1                 0.2  0.00  1.00\n",
      "2                 0.3  0.00  1.00\n",
      "3                 0.4  0.01  0.99\n",
      "4                 0.5  0.01  0.99\n",
      "5                 0.6  0.03  0.97\n",
      "6                 0.7  0.08  0.92\n",
      "7                 0.8  0.03  0.97\n",
      "8                 0.9  0.06  0.94\n",
      "9                 1.0  0.10  0.90\n",
      "10                1.1  0.13  0.87\n",
      "11                1.2  0.15  0.85\n",
      "12                1.3  0.14  0.86\n",
      "13                1.4  0.16  0.84\n",
      "14                1.5  0.17  0.83\n",
      "15                1.6  0.17  0.83\n",
      "16                1.7  0.15  0.85\n",
      "17                1.8  0.20  0.80\n",
      "18                1.9  0.19  0.81\n"
     ]
    }
   ],
   "source": [
    "probabilities = grouped.div(grouped.sum(axis=1), axis=0)\n",
    "probabilities = probabilities.reset_index()\n",
    "\n",
    "print(\"Probabilities of responses for each temperature:\")\n",
    "print(probabilities)"
   ]
  },
  {
   "cell_type": "code",
   "execution_count": 22,
   "metadata": {},
   "outputs": [
    {
     "data": {
      "text/plain": [
       "Index(['temperature', 'No', 'Yes'], dtype='object', name='response')"
      ]
     },
     "execution_count": 22,
     "metadata": {},
     "output_type": "execute_result"
    }
   ],
   "source": [
    "probabilities.columns"
   ]
  },
  {
   "cell_type": "code",
   "execution_count": 23,
   "metadata": {},
   "outputs": [
    {
     "data": {
      "image/png": "[encoded data removed]",
      "text/plain": [
       "<Figure size 1000x600 with 1 Axes>"
      ]
     },
     "metadata": {},
     "output_type": "display_data"
    }
   ],
   "source": [
    "\n",
    "from matplotlib import pyplot as plt\n",
    "\n",
    "# Line Chart\n",
    "plt.figure(figsize=(10, 6))\n",
    "plt.plot(probabilities['temperature'], probabilities['Yes'], marker='o', label='Yes')\n",
    "plt.plot(probabilities['temperature'], probabilities['No'], marker='o', label='No') #\n",
    "plt.xlabel('Temperature')\n",
    "plt.ylabel('Probability')\n",
    "plt.title('Response Probability vs Temperature')\n",
    "plt.legend()\n",
    "plt.grid(True)\n",
    "plt.show()\n",
    "\n"
   ]
  }
 ],
 "metadata": {
  "kernelspec": {
   "display_name": "qa",
   "language": "python",
   "name": "python3"
  },
  "language_info": {
   "codemirror_mode": {
    "name": "ipython",
    "version": 3
   },
   "file_extension": ".py",
   "mimetype": "text/x-python",
   "name": "python",
   "nbconvert_exporter": "python",
   "pygments_lexer": "ipython3",
   "version": "3.12.6"
  }
 },
 "nbformat": 4,
 "nbformat_minor": 2
}
